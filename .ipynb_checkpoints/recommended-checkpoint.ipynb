{
 "cells": [
  {
   "cell_type": "code",
   "execution_count": 1,
   "metadata": {},
   "outputs": [],
   "source": [
    "# Knizníce\n",
    "\n",
    "from scipy import sparse\n",
    "from scipy.sparse import csr_matrix\n",
    "from sklearn.model_selection import train_test_split\n",
    "from pandas.api.types import CategoricalDtype\n",
    "from sklearn.neighbors import NearestNeighbors\n",
    "from datetime import datetime\n",
    "from tqdm import tqdm\n",
    "from pandas import DataFrame\n",
    "import pandas as pd\n",
    "import numpy as np"
   ]
  },
  {
   "cell_type": "code",
   "execution_count": 2,
   "metadata": {},
   "outputs": [],
   "source": [
    "# Nacitanie dat\n",
    "\n",
    "use_cols = [\"customer_id\", \"timestamp\", \"event_type\", \"product_id\"]\n",
    "df1 = pd.read_csv(\"/Users/jofy/Documents/FIIT-VI-zadanie-2/vi_data/purchases_train.csv\", usecols=use_cols)\n",
    "df2 = pd.read_csv(\"/Users/jofy/Documents/FIIT-VI-zadanie-2/vi_data/events_train.csv\", usecols=use_cols)\n",
    "kogel = pd.read_csv(\"/Users/jofy/Documents/FIIT-VI-zadanie-2/vi_data/vi_challenge_uID.csv\", names=[\"customer_id\"])"
   ]
  },
  {
   "cell_type": "code",
   "execution_count": 3,
   "metadata": {},
   "outputs": [
    {
     "name": "stdout",
     "output_type": "stream",
     "text": [
      "14:22:18.284891\n",
      "0:00:23.967302\n",
      "14:22:42.253516\n"
     ]
    }
   ],
   "source": [
    "# Spojenie dvoch dataframe (videne a kupene) a zoradenie podla casu\n",
    "\n",
    "print(datetime.now().time())\n",
    "now = datetime.now()\n",
    "frames = [df1, df2]\n",
    "df3 = pd.concat(frames)\n",
    "df3 = df3.sort_values(by='timestamp')\n",
    "df4All = df3.copy()\n",
    "print(datetime.now() - now)\n",
    "print(datetime.now().time())"
   ]
  },
  {
   "cell_type": "code",
   "execution_count": 4,
   "metadata": {},
   "outputs": [
    {
     "name": "stdout",
     "output_type": "stream",
     "text": [
      "Dĺžka purchases_train 188712\n",
      "Dĺžka events_train 14614385\n",
      "Dĺžka spolu 14803097\n",
      "Počet unikátnych zakazníkov purchases_train 71566\n",
      "Počet unikátnych zakazníkov events_train 2210171\n",
      "Počet unikátnych zakazníkov spolu 2211386\n",
      "Počet unikátnych produktov purchases_train 33613\n",
      "Počet unikátnych produktov events_train 123724\n",
      "Počet unikátnych produktov spolu 123837\n",
      "Počet customer_id s počtom záznamov ako 1 purchases_train 30843\n",
      "Počet customer_id s počtom záznamov ako 2 purchases_train 35058\n",
      "Počet customer_id s počtom záznamov ako 3 purchases_train 24684\n",
      "Počet customer_id s počtom záznamov ako 4 purchases_train 22480\n",
      "Počet customer_id s počtom záznamov ako 5 purchases_train 13150\n",
      "Počet customer_id s počtom záznamov ako 6 purchases_train 13236\n",
      "Počet customer_id s počtom záznamov ako 7 purchases_train 7266\n",
      "Počet customer_id s počtom záznamov ako 8 purchases_train 7912\n",
      "Počet customer_id s počtom záznamov ako 9 purchases_train 5058\n",
      "Počet customer_id s počtom záznamov ako 10 purchases_train 4800\n",
      "Počet customer_id s počtom záznamov ako 11 a viac purchases_train 24225\n",
      "Počet customer_id s počtom záznamov ako 1 events_train 915242\n",
      "Počet customer_id s počtom záznamov ako 2 events_train 660220\n",
      "Počet customer_id s počtom záznamov ako 3 events_train 598080\n",
      "Počet customer_id s počtom záznamov ako 4 events_train 519336\n",
      "Počet customer_id s počtom záznamov ako 5 events_train 486945\n",
      "Počet customer_id s počtom záznamov ako 6 events_train 434868\n",
      "Počet customer_id s počtom záznamov ako 7 events_train 399560\n",
      "Počet customer_id s počtom záznamov ako 8 events_train 362288\n",
      "Počet customer_id s počtom záznamov ako 9 events_train 341181\n",
      "Počet customer_id s počtom záznamov ako 10 events_train 316090\n",
      "Počet customer_id s počtom záznamov ako 11 a viac events_train 9580575\n",
      "Počet customer_id s počtom záznamov ako 1 spolu 913643\n",
      "Počet customer_id s počtom záznamov ako 2 spolu 659174\n",
      "Počet customer_id s počtom záznamov ako 3 spolu 597525\n",
      "Počet customer_id s počtom záznamov ako 4 spolu 518884\n",
      "Počet customer_id s počtom záznamov ako 5 spolu 485995\n",
      "Počet customer_id s počtom záznamov ako 6 spolu 434964\n",
      "Počet customer_id s počtom záznamov ako 7 spolu 399378\n",
      "Počet customer_id s počtom záznamov ako 8 spolu 362408\n",
      "Počet customer_id s počtom záznamov ako 9 spolu 342324\n",
      "Počet customer_id s počtom záznamov ako 10 spolu 315480\n",
      "Počet customer_id s počtom záznamov ako 11 a viac spolu 9773322\n"
     ]
    }
   ],
   "source": [
    "print(\"Dĺžka purchases_train \" + str(len(df1)))\n",
    "print(\"Dĺžka events_train \" + str(len(df2)))\n",
    "print(\"Dĺžka spolu \" + str(len(df3)))\n",
    "print(\"Počet unikátnych zakazníkov purchases_train \" + str(len(df1.customer_id.unique())))\n",
    "print(\"Počet unikátnych zakazníkov events_train \" + str(len(df2.customer_id.unique())))\n",
    "print(\"Počet unikátnych zakazníkov spolu \" + str(len(df3.customer_id.unique())))\n",
    "print(\"Počet unikátnych produktov purchases_train \" + str(len(df1.product_id.unique())))\n",
    "print(\"Počet unikátnych produktov events_train \" + str(len(df2.product_id.unique())))\n",
    "print(\"Počet unikátnych produktov spolu \" + str(len(df3.product_id.unique())))\n",
    "\n",
    "counts = df1['customer_id'].value_counts()\n",
    "print(\"Počet customer_id s počtom záznamov ako 1 purchases_train \" + str(len(df1[df1['customer_id'].isin(counts[counts == 1].index)])))\n",
    "print(\"Počet customer_id s počtom záznamov ako 2 purchases_train \" + str(len(df1[df1['customer_id'].isin(counts[counts == 2].index)])))\n",
    "print(\"Počet customer_id s počtom záznamov ako 3 purchases_train \" + str(len(df1[df1['customer_id'].isin(counts[counts == 3].index)])))\n",
    "print(\"Počet customer_id s počtom záznamov ako 4 purchases_train \" + str(len(df1[df1['customer_id'].isin(counts[counts == 4].index)])))\n",
    "print(\"Počet customer_id s počtom záznamov ako 5 purchases_train \" + str(len(df1[df1['customer_id'].isin(counts[counts == 5].index)])))\n",
    "print(\"Počet customer_id s počtom záznamov ako 6 purchases_train \" + str(len(df1[df1['customer_id'].isin(counts[counts == 6].index)])))\n",
    "print(\"Počet customer_id s počtom záznamov ako 7 purchases_train \" + str(len(df1[df1['customer_id'].isin(counts[counts == 7].index)])))\n",
    "print(\"Počet customer_id s počtom záznamov ako 8 purchases_train \" + str(len(df1[df1['customer_id'].isin(counts[counts == 8].index)])))\n",
    "print(\"Počet customer_id s počtom záznamov ako 9 purchases_train \" + str(len(df1[df1['customer_id'].isin(counts[counts == 9].index)])))\n",
    "print(\"Počet customer_id s počtom záznamov ako 10 purchases_train \" + str(len(df1[df1['customer_id'].isin(counts[counts == 10].index)])))\n",
    "print(\"Počet customer_id s počtom záznamov ako 11 a viac purchases_train \" + str(len(df1[df1['customer_id'].isin(counts[counts > 10].index)])))\n",
    "\n",
    "counts = df2['customer_id'].value_counts()\n",
    "print(\"Počet customer_id s počtom záznamov ako 1 events_train \" + str(len(df2[df2['customer_id'].isin(counts[counts == 1].index)])))\n",
    "print(\"Počet customer_id s počtom záznamov ako 2 events_train \" + str(len(df2[df2['customer_id'].isin(counts[counts == 2].index)])))\n",
    "print(\"Počet customer_id s počtom záznamov ako 3 events_train \" + str(len(df2[df2['customer_id'].isin(counts[counts == 3].index)])))\n",
    "print(\"Počet customer_id s počtom záznamov ako 4 events_train \" + str(len(df2[df2['customer_id'].isin(counts[counts == 4].index)])))\n",
    "print(\"Počet customer_id s počtom záznamov ako 5 events_train \" + str(len(df2[df2['customer_id'].isin(counts[counts == 5].index)])))\n",
    "print(\"Počet customer_id s počtom záznamov ako 6 events_train \" + str(len(df2[df2['customer_id'].isin(counts[counts == 6].index)])))\n",
    "print(\"Počet customer_id s počtom záznamov ako 7 events_train \" + str(len(df2[df2['customer_id'].isin(counts[counts == 7].index)])))\n",
    "print(\"Počet customer_id s počtom záznamov ako 8 events_train \" + str(len(df2[df2['customer_id'].isin(counts[counts == 8].index)])))\n",
    "print(\"Počet customer_id s počtom záznamov ako 9 events_train \" + str(len(df2[df2['customer_id'].isin(counts[counts == 9].index)])))\n",
    "print(\"Počet customer_id s počtom záznamov ako 10 events_train \" + str(len(df2[df2['customer_id'].isin(counts[counts == 10].index)])))\n",
    "print(\"Počet customer_id s počtom záznamov ako 11 a viac events_train \" + str(len(df2[df2['customer_id'].isin(counts[counts > 10].index)])))\n",
    "\n",
    "counts = df3['customer_id'].value_counts()\n",
    "print(\"Počet customer_id s počtom záznamov ako 1 spolu \" + str(len(df3[df3['customer_id'].isin(counts[counts == 1].index)])))\n",
    "print(\"Počet customer_id s počtom záznamov ako 2 spolu \" + str(len(df3[df3['customer_id'].isin(counts[counts == 2].index)])))\n",
    "print(\"Počet customer_id s počtom záznamov ako 3 spolu \" + str(len(df3[df3['customer_id'].isin(counts[counts == 3].index)])))\n",
    "print(\"Počet customer_id s počtom záznamov ako 4 spolu \" + str(len(df3[df3['customer_id'].isin(counts[counts == 4].index)])))\n",
    "print(\"Počet customer_id s počtom záznamov ako 5 spolu \" + str(len(df3[df3['customer_id'].isin(counts[counts == 5].index)])))\n",
    "print(\"Počet customer_id s počtom záznamov ako 6 spolu \" + str(len(df3[df3['customer_id'].isin(counts[counts == 6].index)])))\n",
    "print(\"Počet customer_id s počtom záznamov ako 7 spolu \" + str(len(df3[df3['customer_id'].isin(counts[counts == 7].index)])))\n",
    "print(\"Počet customer_id s počtom záznamov ako 8 spolu \" + str(len(df3[df3['customer_id'].isin(counts[counts == 8].index)])))\n",
    "print(\"Počet customer_id s počtom záznamov ako 9 spolu \" + str(len(df3[df3['customer_id'].isin(counts[counts == 9].index)])))\n",
    "print(\"Počet customer_id s počtom záznamov ako 10 spolu \" + str(len(df3[df3['customer_id'].isin(counts[counts == 10].index)])))\n",
    "print(\"Počet customer_id s počtom záznamov ako 11 a viac spolu \" + str(len(df3[df3['customer_id'].isin(counts[counts > 10].index)])))"
   ]
  },
  {
   "cell_type": "code",
   "execution_count": 5,
   "metadata": {},
   "outputs": [
    {
     "data": {
      "text/plain": [
       "<matplotlib.axes._subplots.AxesSubplot at 0x1a1f8ff400>"
      ]
     },
     "execution_count": 5,
     "metadata": {},
     "output_type": "execute_result"
    }
   ],
   "source": [
    "df1.groupby('product_id').agg({'product_id':'count'}).plot()"
   ]
  },
  {
   "cell_type": "code",
   "execution_count": 6,
   "metadata": {},
   "outputs": [
    {
     "data": {
      "text/plain": [
       "<matplotlib.axes._subplots.AxesSubplot at 0x1a2022ee48>"
      ]
     },
     "execution_count": 6,
     "metadata": {},
     "output_type": "execute_result"
    },
    {
     "data": {
      "image/png": "[encoded data removed]",
      "text/plain": [
       "<Figure size 432x288 with 1 Axes>"
      ]
     },
     "metadata": {
      "needs_background": "light"
     },
     "output_type": "display_data"
    }
   ],
   "source": [
    "df2.groupby('product_id').agg({'product_id':'count'}).plot()"
   ]
  },
  {
   "cell_type": "code",
   "execution_count": 7,
   "metadata": {},
   "outputs": [
    {
     "data": {
      "text/plain": [
       "<matplotlib.axes._subplots.AxesSubplot at 0x1a200cc2e8>"
      ]
     },
     "execution_count": 7,
     "metadata": {},
     "output_type": "execute_result"
    },
    {
     "data": {
      "image/png": "[encoded data removed]",
      "text/plain": [
       "<Figure size 432x288 with 1 Axes>"
      ]
     },
     "metadata": {
      "needs_background": "light"
     },
     "output_type": "display_data"
    }
   ],
   "source": [
    "df3.groupby('product_id').agg({'product_id':'count'}).plot()"
   ]
  },
  {
   "cell_type": "code",
   "execution_count": 8,
   "metadata": {},
   "outputs": [
    {
     "data": {
      "text/plain": [
       "<matplotlib.axes._subplots.AxesSubplot at 0x1a22a7b0b8>"
      ]
     },
     "execution_count": 8,
     "metadata": {},
     "output_type": "execute_result"
    },
    {
     "data": {
      "image/png": "[encoded data removed]",
      "text/plain": [
       "<Figure size 432x288 with 1 Axes>"
      ]
     },
     "metadata": {
      "needs_background": "light"
     },
     "output_type": "display_data"
    }
   ],
   "source": [
    "df1.groupby('customer_id').agg({'customer_id':'count'}).plot()"
   ]
  },
  {
   "cell_type": "code",
   "execution_count": 9,
   "metadata": {},
   "outputs": [
    {
     "data": {
      "text/plain": [
       "<matplotlib.axes._subplots.AxesSubplot at 0x1a1fbdfb70>"
      ]
     },
     "execution_count": 9,
     "metadata": {},
     "output_type": "execute_result"
    },
    {
     "data": {
      "image/png": "[encoded data removed]",
      "text/plain": [
       "<Figure size 432x288 with 1 Axes>"
      ]
     },
     "metadata": {
      "needs_background": "light"
     },
     "output_type": "display_data"
    }
   ],
   "source": [
    "df2.groupby('customer_id').agg({'customer_id':'count'}).plot()"
   ]
  },
  {
   "cell_type": "code",
   "execution_count": 10,
   "metadata": {},
   "outputs": [
    {
     "data": {
      "text/plain": [
       "<matplotlib.axes._subplots.AxesSubplot at 0x1a369952e8>"
      ]
     },
     "execution_count": 10,
     "metadata": {},
     "output_type": "execute_result"
    },
    {
     "data": {
      "image/png": "[encoded data removed]",
      "text/plain": [
       "<Figure size 432x288 with 1 Axes>"
      ]
     },
     "metadata": {
      "needs_background": "light"
     },
     "output_type": "display_data"
    }
   ],
   "source": [
    "df3.groupby('customer_id').agg({'customer_id':'count'}).plot()"
   ]
  },
  {
   "cell_type": "code",
   "execution_count": 11,
   "metadata": {},
   "outputs": [],
   "source": [
    "# Priprava sutaznych dat ako list\n",
    "\n",
    "vi_challenge_uID = kogel['customer_id'].values.tolist()"
   ]
  },
  {
   "cell_type": "code",
   "execution_count": 12,
   "metadata": {},
   "outputs": [
    {
     "name": "stdout",
     "output_type": "stream",
     "text": [
      "14:24:43.156099\n",
      "0:00:12.341181\n",
      "14:24:55.497583\n"
     ]
    }
   ],
   "source": [
    "# Odstranenie customerov ktori urobili menej ako 4 zaznamy\n",
    "\n",
    "print(datetime.now().time())\n",
    "now = datetime.now()\n",
    "counts = df3['customer_id'].value_counts()\n",
    "df3 = df3[~df3['customer_id'].isin(counts[counts < 5].index)]\n",
    "print(datetime.now() - now)\n",
    "print(datetime.now().time())"
   ]
  },
  {
   "cell_type": "code",
   "execution_count": 13,
   "metadata": {},
   "outputs": [
    {
     "name": "stdout",
     "output_type": "stream",
     "text": [
      "14:24:55.504402\n",
      "12113871\n",
      "2997524\n",
      "0:25:33.515321\n",
      "14:50:29.021997\n"
     ]
    }
   ],
   "source": [
    "# Odstranenie dat starsich ako 14 dni\n",
    "\n",
    "print(datetime.now().time())\n",
    "now = datetime.now()\n",
    "print(len(df3))\n",
    "df3['timestamp'] = pd.to_datetime(df3['timestamp'])\n",
    "indexNames = df3[df3['timestamp'].max() + pd.Timedelta(days=-14) > df3['timestamp']].index\n",
    "df3.drop(indexNames , inplace=True)\n",
    "print(len(df3))\n",
    "print(datetime.now() - now)\n",
    "print(datetime.now().time())"
   ]
  },
  {
   "cell_type": "code",
   "execution_count": 14,
   "metadata": {},
   "outputs": [],
   "source": [
    "# Zamena tagov kupene a videne za hodnoty (kupene ma vacsiu hodnotu)\n",
    "\n",
    "df3 = df3.replace('purchase_item', 25)\n",
    "df3 = df3.replace('view_item', 1)\n",
    "df3['event_type'] = df3['event_type'].astype(int)\n",
    "\n",
    "df4All = df4All.replace('purchase_item', 25)\n",
    "df4All = df4All.replace('view_item', 1)\n",
    "df4All['event_type'] = df4All['event_type'].astype(int)"
   ]
  },
  {
   "cell_type": "code",
   "execution_count": 15,
   "metadata": {},
   "outputs": [],
   "source": [
    "# Rozdelenie datasetu na 10 % na testovanie a 80% na trenovanie\n",
    "\n",
    "train, test = train_test_split(df3, test_size=0.2)\n",
    "\n",
    "# Rozdelenie datasetu na testovaciu a trenovaciu (vyber 10000 zaznamov na trenovanie na testovanie)\n",
    "\n",
    "train_span, test = train_test_split(test, test_size=0.15)"
   ]
  },
  {
   "cell_type": "code",
   "execution_count": 16,
   "metadata": {},
   "outputs": [
    {
     "name": "stdout",
     "output_type": "stream",
     "text": [
      "89926\n"
     ]
    }
   ],
   "source": [
    "print(len(test))"
   ]
  },
  {
   "cell_type": "code",
   "execution_count": 17,
   "metadata": {},
   "outputs": [
    {
     "name": "stdout",
     "output_type": "stream",
     "text": [
      "train\n",
      "14:51:13.662466\n",
      "0:00:02.256066\n",
      "14:51:15.919397\n",
      "test\n",
      "14:51:15.919539\n",
      "0:00:00.191581\n",
      "14:51:16.111358\n"
     ]
    }
   ],
   "source": [
    "# Odstranenie customerov ktori urobili menej ako 4 zaznamy\n",
    "print('train')\n",
    "print(datetime.now().time())\n",
    "now = datetime.now()\n",
    "counts = train['customer_id'].value_counts()\n",
    "train = train[~train['customer_id'].isin(counts[counts < 5].index)]\n",
    "print(datetime.now() - now)\n",
    "print(datetime.now().time())\n",
    "\n",
    "print('test')\n",
    "print(datetime.now().time())\n",
    "now = datetime.now()\n",
    "counts = test['customer_id'].value_counts()\n",
    "test = test[~test['customer_id'].isin(counts[counts < 5].index)]\n",
    "print(datetime.now() - now)\n",
    "print(datetime.now().time())"
   ]
  },
  {
   "cell_type": "code",
   "execution_count": 18,
   "metadata": {},
   "outputs": [],
   "source": [
    "# Vyhladanie top 10 produktov z datasetu\n",
    "\n",
    "# pd.concat([df4All, test]).drop_duplicates(keep=False)\n",
    "# train_top_10_product = df4All.groupby(['product_id']).sum().sort_values(by=['event_type'],ascending=False).reset_index().head(10)\n",
    "\n",
    "\n",
    "train_top_10_product = train.groupby(['product_id']).sum().sort_values(by=['event_type'],ascending=False).reset_index().head(10)"
   ]
  },
  {
   "cell_type": "code",
   "execution_count": 19,
   "metadata": {},
   "outputs": [],
   "source": [
    "# Tvorba zoznamu uniq customerov pre oba dataframe a tvorba kategorii\n",
    "\n",
    "# train = train[train.customer_id.duplicated(keep=False)]\n",
    "test_customer_uniq = sorted(test.customer_id.unique())\n",
    "test_product_uniq = sorted(test.product_id.unique())\n",
    "\n",
    "train_product_uniq = sorted(train.product_id.unique())\n",
    "train_customer_uniq = sorted(train.customer_id.unique())\n",
    "train_product = CategoricalDtype(train_product_uniq, ordered=True)\n",
    "train_customer = CategoricalDtype(train_customer_uniq, ordered=True)"
   ]
  },
  {
   "cell_type": "code",
   "execution_count": 20,
   "metadata": {},
   "outputs": [],
   "source": [
    "# Vytvorenie riadku a stlpca ktory sa pouzije na sparse maticu\n",
    "\n",
    "train_row = train.customer_id.astype(train_customer).cat.codes\n",
    "train_col = train.product_id.astype(train_product).cat.codes"
   ]
  },
  {
   "cell_type": "code",
   "execution_count": 21,
   "metadata": {},
   "outputs": [],
   "source": [
    "# Tvorba sparse matice\n",
    "\n",
    "train_sparse_matrix = csr_matrix((train[\"event_type\"], (train_row, train_col)), \\\n",
    "                                 shape=(train_customer.categories.size, train_product.categories.size))"
   ]
  },
  {
   "cell_type": "code",
   "execution_count": 22,
   "metadata": {},
   "outputs": [],
   "source": [
    "# Tvorba testovacieho dataframe\n",
    "\n",
    "test_result = test.sort_values(by=['customer_id'])\n",
    "test_result = test_result.drop('timestamp', axis=1)\n",
    "test_result = test_result.drop('event_type', axis=1)"
   ]
  },
  {
   "cell_type": "code",
   "execution_count": 23,
   "metadata": {},
   "outputs": [
    {
     "name": "stdout",
     "output_type": "stream",
     "text": [
      "len df1 - 188712\n",
      "len df2 - 14614385\n",
      "uniq event_type df1 - ['purchase_item']\n",
      "uniq event_type df2 - ['view_item']\n",
      "len train - 2140092\n",
      "len test - 9680\n",
      "len train_product_uniq - 74601\n",
      "len train_customer_uniq - 150181\n",
      "len test_customer_uniq - 1353\n",
      "len train_sparse_matrix.shape - (150181, 74601)\n",
      "0.020851449484062694% Sparsity\n",
      "customer 0 - 00009144-f7e7-41a3-8911-f63bf6c1239e\n"
     ]
    }
   ],
   "source": [
    "# Pomocne vypisi\n",
    "\n",
    "print('len df1 - ' + str(len(df1.index)))\n",
    "print('len df2 - ' + str(len(df2.index)))\n",
    "print('uniq event_type df1 - ' + str(df1['event_type'].unique()))\n",
    "print('uniq event_type df2 - ' + str(df2['event_type'].unique()))\n",
    "print('len train - ' + str(len(train.index)))\n",
    "print('len test - ' + str(len(test.index)))\n",
    "print('len train_product_uniq - ' + str(len(train_product_uniq)))\n",
    "print('len train_customer_uniq - ' + str(len(train_customer_uniq)))\n",
    "print('len test_customer_uniq - ' + str(len(test_customer_uniq)))\n",
    "print('len train_sparse_matrix.shape - ' + str(train_sparse_matrix.shape))\n",
    "print(f'{100*train_sparse_matrix.sum()/(train_sparse_matrix.shape[0]*train_sparse_matrix.shape[1])}% Sparsity')\n",
    "print('customer 0 - ' + str(train_customer_uniq[0]))"
   ]
  },
  {
   "cell_type": "code",
   "execution_count": 24,
   "metadata": {},
   "outputs": [
    {
     "name": "stdout",
     "output_type": "stream",
     "text": [
      "14:51:21.420632\n",
      "0:07:30.802540\n",
      "14:58:52.224439\n"
     ]
    }
   ],
   "source": [
    "# Trenovanie knn matice vsetkych customerov\n",
    "\n",
    "print(datetime.now().time())\n",
    "now = datetime.now()\n",
    "model_knn_graph = NearestNeighbors(n_neighbors=51)\n",
    "model_knn_graph.fit(train_sparse_matrix)\n",
    "user_knn_distance_matrix = model_knn_graph.kneighbors_graph(train_sparse_matrix, mode='distance')\n",
    "print(datetime.now() - now)\n",
    "print(datetime.now().time())"
   ]
  },
  {
   "cell_type": "code",
   "execution_count": 25,
   "metadata": {},
   "outputs": [
    {
     "name": "stdout",
     "output_type": "stream",
     "text": [
      "  (0, 0)\t0.0\n",
      "  (0, 25)\t3.1622776601683795\n",
      "  (0, 68758)\t3.1622776601683795\n",
      "  (0, 138180)\t3.1622776601683795\n",
      "  (0, 102809)\t3.1622776601683795\n",
      "  (0, 26959)\t3.1622776601683795\n",
      "  (0, 91012)\t3.1622776601683795\n",
      "  (0, 101259)\t3.1622776601683795\n",
      "  (0, 37153)\t3.4641016151377544\n",
      "  (0, 72636)\t3.4641016151377544\n",
      "  (0, 137640)\t3.4641016151377544\n",
      "  (0, 13030)\t3.4641016151377544\n",
      "  (0, 124872)\t3.4641016151377544\n",
      "  (0, 40117)\t3.4641016151377544\n",
      "  (0, 106507)\t3.4641016151377544\n",
      "  (0, 13011)\t3.4641016151377544\n",
      "  (0, 6382)\t3.4641016151377544\n",
      "  (0, 44676)\t3.4641016151377544\n",
      "  (0, 94975)\t3.4641016151377544\n",
      "  (0, 94983)\t3.4641016151377544\n",
      "  (0, 6386)\t3.4641016151377544\n",
      "  (0, 137592)\t3.4641016151377544\n",
      "  (0, 106494)\t3.4641016151377544\n",
      "  (0, 78470)\t3.4641016151377544\n",
      "  (0, 37167)\t3.4641016151377544\n",
      "  :\t:\n",
      "  (150180, 11911)\t4.242640687119285\n",
      "  (150180, 53002)\t4.242640687119285\n",
      "  (150180, 52995)\t4.242640687119285\n",
      "  (150180, 114662)\t4.242640687119285\n",
      "  (150180, 82889)\t4.242640687119285\n",
      "  (150180, 114671)\t4.242640687119285\n",
      "  (150180, 114802)\t4.242640687119285\n",
      "  (150180, 114759)\t4.242640687119285\n",
      "  (150180, 114750)\t4.242640687119285\n",
      "  (150180, 82786)\t4.242640687119285\n",
      "  (150180, 114741)\t4.242640687119285\n",
      "  (150180, 53077)\t4.242640687119285\n",
      "  (150180, 38598)\t4.242640687119285\n",
      "  (150180, 19813)\t4.242640687119285\n",
      "  (150180, 82775)\t4.242640687119285\n",
      "  (150180, 82793)\t4.242640687119285\n",
      "  (150180, 114796)\t4.242640687119285\n",
      "  (150180, 82820)\t4.242640687119285\n",
      "  (150180, 114552)\t4.242640687119285\n",
      "  (150180, 53079)\t4.242640687119285\n",
      "  (150180, 17317)\t4.242640687119285\n",
      "  (150180, 114687)\t4.242640687119285\n",
      "  (150180, 53051)\t4.242640687119285\n",
      "  (150180, 114785)\t4.242640687119285\n",
      "  (150180, 83013)\t4.242640687119285\n"
     ]
    }
   ],
   "source": [
    "print(user_knn_distance_matrix)"
   ]
  },
  {
   "cell_type": "code",
   "execution_count": 26,
   "metadata": {},
   "outputs": [
    {
     "data": {
      "text/html": [
       "<style  type=\"text/css\" >\n",
       "</style><table id=\"T_32ae03a6_1b55_11ea_8fed_8c85908c45c1\" ><thead>    <tr>        <th class=\"blank level0\" ></th>        <th class=\"col_heading level0 col0\" >event_type</th>    </tr></thead><tbody>\n",
       "                <tr>\n",
       "                        <th id=\"T_32ae03a6_1b55_11ea_8fed_8c85908c45c1level0_row0\" class=\"row_heading level0 row0\" >count</th>\n",
       "                        <td id=\"T_32ae03a6_1b55_11ea_8fed_8c85908c45c1row0_col0\" class=\"data row0 col0\" >2140092.00</td>\n",
       "            </tr>\n",
       "            <tr>\n",
       "                        <th id=\"T_32ae03a6_1b55_11ea_8fed_8c85908c45c1level0_row1\" class=\"row_heading level0 row1\" >mean</th>\n",
       "                        <td id=\"T_32ae03a6_1b55_11ea_8fed_8c85908c45c1row1_col0\" class=\"data row1 col0\" >1.09</td>\n",
       "            </tr>\n",
       "            <tr>\n",
       "                        <th id=\"T_32ae03a6_1b55_11ea_8fed_8c85908c45c1level0_row2\" class=\"row_heading level0 row2\" >std</th>\n",
       "                        <td id=\"T_32ae03a6_1b55_11ea_8fed_8c85908c45c1row2_col0\" class=\"data row2 col0\" >1.48</td>\n",
       "            </tr>\n",
       "            <tr>\n",
       "                        <th id=\"T_32ae03a6_1b55_11ea_8fed_8c85908c45c1level0_row3\" class=\"row_heading level0 row3\" >min</th>\n",
       "                        <td id=\"T_32ae03a6_1b55_11ea_8fed_8c85908c45c1row3_col0\" class=\"data row3 col0\" >1.00</td>\n",
       "            </tr>\n",
       "            <tr>\n",
       "                        <th id=\"T_32ae03a6_1b55_11ea_8fed_8c85908c45c1level0_row4\" class=\"row_heading level0 row4\" >25%</th>\n",
       "                        <td id=\"T_32ae03a6_1b55_11ea_8fed_8c85908c45c1row4_col0\" class=\"data row4 col0\" >1.00</td>\n",
       "            </tr>\n",
       "            <tr>\n",
       "                        <th id=\"T_32ae03a6_1b55_11ea_8fed_8c85908c45c1level0_row5\" class=\"row_heading level0 row5\" >50%</th>\n",
       "                        <td id=\"T_32ae03a6_1b55_11ea_8fed_8c85908c45c1row5_col0\" class=\"data row5 col0\" >1.00</td>\n",
       "            </tr>\n",
       "            <tr>\n",
       "                        <th id=\"T_32ae03a6_1b55_11ea_8fed_8c85908c45c1level0_row6\" class=\"row_heading level0 row6\" >75%</th>\n",
       "                        <td id=\"T_32ae03a6_1b55_11ea_8fed_8c85908c45c1row6_col0\" class=\"data row6 col0\" >1.00</td>\n",
       "            </tr>\n",
       "            <tr>\n",
       "                        <th id=\"T_32ae03a6_1b55_11ea_8fed_8c85908c45c1level0_row7\" class=\"row_heading level0 row7\" >max</th>\n",
       "                        <td id=\"T_32ae03a6_1b55_11ea_8fed_8c85908c45c1row7_col0\" class=\"data row7 col0\" >25.00</td>\n",
       "            </tr>\n",
       "    </tbody></table>"
      ],
      "text/plain": [
       "<pandas.io.formats.style.Styler at 0x1a1d03eb70>"
      ]
     },
     "execution_count": 26,
     "metadata": {},
     "output_type": "execute_result"
    }
   ],
   "source": [
    "train.describe().style.format('{:.2f}')"
   ]
  },
  {
   "cell_type": "code",
   "execution_count": 27,
   "metadata": {},
   "outputs": [],
   "source": [
    "# Najdenie odporucania pre list customerov. Ak ich je menej ako 10 doda z top 10. Ak customer nebol v trenovacej mnozine doda sa to z top 10.\n",
    "\n",
    "def find_recommend(users_data, k):\n",
    "    result_recommend = pd.DataFrame(columns=['customer_id','product_id'])\n",
    "    for x in tqdm(range(len(users_data))):\n",
    "        \n",
    "        try:\n",
    "            index_value = train_customer_uniq.index(users_data[x])\n",
    "        except ValueError:\n",
    "            index_value = -1\n",
    "\n",
    "        top10_for_user = train_top_10_product\n",
    "        top10_for_user['customer_id'] = users_data[x]\n",
    "\n",
    "        if index_value == -1:\n",
    "            result_recommend = result_recommend.append(top10_for_user)\n",
    "\n",
    "        else:\n",
    "            spam, user_neighbours = user_knn_distance_matrix[index_value].nonzero()[: k]\n",
    "            user_for_recommend = train.loc[train['customer_id'] == train_customer_uniq[index_value]].iloc[:,[3,2]]\n",
    "            user_for_recommend['customer_id'] = users_data[x]\n",
    "            user_for_recommend = user_for_recommend[user_for_recommend.event_type > 24] #pozor\n",
    "            topNuser = k\n",
    "            if len(user_neighbours) < topNuser :\n",
    "                topNuser = len(user_neighbours)\n",
    "            for i in range(topNuser):\n",
    "                if i == 0:\n",
    "                    recommend = train.loc[train['customer_id'] == train_customer_uniq[user_neighbours[i]]].iloc[:,[2,3]]\n",
    "                else:\n",
    "                    recommend = recommend.append(train.loc[train['customer_id'] == train_customer_uniq[user_neighbours[i]]].iloc[:,[2,3]])\n",
    "                    \n",
    "            recommend = recommend.groupby(['product_id'], as_index=False).sum()\n",
    "            recommend['customer_id'] = users_data[x]\n",
    "\n",
    "            if 'event_type' in recommend.columns: \n",
    "                recommend = recommend.sort_values(by=['event_type'],ascending=False)\n",
    "\n",
    "            recommend.reset_index(drop=True, inplace=True)\n",
    "            recommend = recommend.append( user_for_recommend ).drop_duplicates(subset='product_id', keep=False).head(10)\n",
    "            r, c = recommend.shape\n",
    "\n",
    "            if r < 11:\n",
    "                recommend = recommend.append(top10_for_user).head(10)\n",
    "\n",
    "            result_recommend = result_recommend.append(recommend)\n",
    "            \n",
    "    return result_recommend\n"
   ]
  },
  {
   "cell_type": "code",
   "execution_count": 28,
   "metadata": {},
   "outputs": [],
   "source": [
    "# Vypocet map_score\n",
    "\n",
    "def map_score(k, Xrecommend_data, Xtest_data):\n",
    "    global test_customer_uniq\n",
    "    mapk = 0\n",
    "    for u in range(len(test_customer_uniq)):\n",
    "        y_true = Xtest_data[u]\n",
    "        u_pred = Xrecommend_data[u]\n",
    "        y_pred = np.sort(u_pred)[::-1][:k]\n",
    "        n_hit = 0\n",
    "        precision = 0\n",
    "        actual = set(y_true)\n",
    "        for i, p in enumerate(y_pred, 1):\n",
    "            if p in actual:\n",
    "                n_hit += 1\n",
    "                precision += n_hit / i\n",
    "        mapk += precision / min(len(actual), k)\n",
    "    mapk /= len(test_customer_uniq)\n",
    "    return mapk"
   ]
  },
  {
   "cell_type": "code",
   "execution_count": 29,
   "metadata": {},
   "outputs": [],
   "source": [
    "def dcg_at_k(y_true, y_score, k):\n",
    "    y_dcg = np.zeros(len(y_true))\n",
    "    for i in range(len(y_true)):\n",
    "        \n",
    "        for j in range(len(y_score)):\n",
    "            if y_true[i] == y_score[j]:\n",
    "                if i == j:\n",
    "                    y_dcg[i] = 3\n",
    "                y_dcg[i] = 1\n",
    "                \n",
    "    gains = 2 ** sum(y_dcg) - 1\n",
    "    discounts = np.log2(np.arange(2, gains.size + 2))\n",
    "    dcg = np.sum(gains / discounts)\n",
    "    return dcg\n",
    "\n",
    "def ndcg_score(Xrecommend_data, Xtest_data, k):\n",
    "    global test_customer_uniq\n",
    "    ndcg = 0.0\n",
    "    for u in range(len(test_customer_uniq)):\n",
    "        actual = dcg_at_k(sorted(Xtest_data[u], reverse=True), Xrecommend_data[u], k)\n",
    "        best = dcg_at_k(sorted(Xtest_data[u], reverse=True), sorted(Xtest_data[u], reverse=True), k)\n",
    "        ndcg += actual / best\n",
    "    avg_ndcg = ndcg / len(test_customer_uniq)\n",
    "    return avg_ndcg\n"
   ]
  },
  {
   "cell_type": "code",
   "execution_count": 30,
   "metadata": {},
   "outputs": [],
   "source": [
    "# Uprava dat pred vstupu do testu / tvorba listov\n",
    "\n",
    "def create_array_recommend_test(k):\n",
    "    Xrecommend_data = []\n",
    "    Xtest_data = []\n",
    "    for x in tqdm(range(len(test_customer_uniq))): \n",
    "        Xrecommend_data.append(result_recommend_all.loc[result_recommend_all['customer_id'] == test_customer_uniq[x]].iloc[:,[1]]['product_id'].values.tolist())\n",
    "        Xtest_data.append(test_result.loc[test_result['customer_id'] == test_customer_uniq[x]].iloc[:,[1]]['product_id'].values.tolist())\n",
    "        \n",
    "    map_value = map_score(k, Xrecommend_data, Xtest_data)\n",
    "    print('map :', map_value)\n",
    "    ndcg_value = ndcg_score(Xrecommend_data, Xtest_data, k)\n",
    "    print('ndcg:', ndcg_value)\n"
   ]
  },
  {
   "cell_type": "code",
   "execution_count": 31,
   "metadata": {
    "scrolled": true
   },
   "outputs": [
    {
     "name": "stderr",
     "output_type": "stream",
     "text": [
      "  0%|          | 0/1000 [00:00<?, ?it/s]/Users/jofy/anaconda3/lib/python3.7/site-packages/pandas/core/frame.py:7138: FutureWarning: Sorting because non-concatenation axis is not aligned. A future version\n",
      "of pandas will change to not sort by default.\n",
      "\n",
      "To accept the future behavior, pass 'sort=False'.\n",
      "\n",
      "To retain the current behavior and silence the warning, pass 'sort=True'.\n",
      "\n",
      "  sort=sort,\n",
      "100%|██████████| 1000/1000 [10:32<00:00,  1.58it/s]\n"
     ]
    }
   ],
   "source": [
    "# Najdenie odporucania pre sutaz\n",
    "\n",
    "result_recommend_all = find_recommend(vi_challenge_uID, 10)\n",
    "result_recommend_all = result_recommend_all.drop('event_type', axis=1)\n",
    "export_csv = result_recommend_all.to_csv (r'/Users/jofy/Documents/VINF2/vi_data/export_data_final10.csv', index = None, header=False)"
   ]
  },
  {
   "cell_type": "code",
   "execution_count": 32,
   "metadata": {},
   "outputs": [
    {
     "name": "stderr",
     "output_type": "stream",
     "text": [
      "\r",
      "  0%|          | 0/1353 [00:00<?, ?it/s]"
     ]
    },
    {
     "name": "stdout",
     "output_type": "stream",
     "text": [
      "15:09:25.433503\n"
     ]
    },
    {
     "name": "stderr",
     "output_type": "stream",
     "text": [
      "100%|██████████| 1353/1353 [1:20:23<00:00,  3.89s/it]"
     ]
    },
    {
     "name": "stdout",
     "output_type": "stream",
     "text": [
      "1:20:23.199666\n",
      "16:29:48.633940\n"
     ]
    },
    {
     "name": "stderr",
     "output_type": "stream",
     "text": [
      "\n"
     ]
    }
   ],
   "source": [
    "# Najdenie odporucania pre testovaciu mnozinu\n",
    "\n",
    "print(datetime.now().time())\n",
    "now = datetime.now()\n",
    "result_recommend_all = find_recommend(test_customer_uniq, 10)\n",
    "if 'event_type' in result_recommend_all.columns:\n",
    "    result_recommend_all = result_recommend_all.drop('event_type', axis=1)\n",
    "print(datetime.now() - now)\n",
    "print(datetime.now().time())"
   ]
  },
  {
   "cell_type": "code",
   "execution_count": 33,
   "metadata": {
    "scrolled": false
   },
   "outputs": [
    {
     "name": "stderr",
     "output_type": "stream",
     "text": [
      "100%|██████████| 1353/1353 [00:06<00:00, 207.71it/s]\n"
     ]
    },
    {
     "name": "stdout",
     "output_type": "stream",
     "text": [
      "map : 0.06356642920643127\n",
      "ndcg: 0.044219790127584806\n"
     ]
    }
   ],
   "source": [
    "# Spustenie testovania\n",
    "\n",
    "create_array_recommend_test(10)"
   ]
  },
  {
   "cell_type": "code",
   "execution_count": 34,
   "metadata": {},
   "outputs": [
    {
     "name": "stderr",
     "output_type": "stream",
     "text": [
      "100%|██████████| 1000/1000 [20:40<00:00,  1.47s/it] \n"
     ]
    }
   ],
   "source": [
    "# Najdenie odporucania pre sutaz\n",
    "\n",
    "result_recommend_all = find_recommend(vi_challenge_uID, 20)\n",
    "result_recommend_all = result_recommend_all.drop('event_type', axis=1)\n",
    "export_csv = result_recommend_all.to_csv (r'/Users/jofy/Documents/VINF2/vi_data/export_data_final20.csv', index = None, header=False)"
   ]
  },
  {
   "cell_type": "code",
   "execution_count": 35,
   "metadata": {},
   "outputs": [
    {
     "name": "stderr",
     "output_type": "stream",
     "text": [
      "\r",
      "  0%|          | 0/1353 [00:00<?, ?it/s]"
     ]
    },
    {
     "name": "stdout",
     "output_type": "stream",
     "text": [
      "16:50:36.223591\n"
     ]
    },
    {
     "name": "stderr",
     "output_type": "stream",
     "text": [
      "100%|██████████| 1353/1353 [2:36:27<00:00,  6.40s/it] "
     ]
    },
    {
     "name": "stdout",
     "output_type": "stream",
     "text": [
      "2:36:27.030286\n",
      "19:27:03.254716\n"
     ]
    },
    {
     "name": "stderr",
     "output_type": "stream",
     "text": [
      "\n"
     ]
    }
   ],
   "source": [
    "# Najdenie odporucania pre testovaciu mnozinu\n",
    "\n",
    "print(datetime.now().time())\n",
    "now = datetime.now()\n",
    "result_recommend_all = find_recommend(test_customer_uniq, 20)\n",
    "if 'event_type' in result_recommend_all.columns:\n",
    "    result_recommend_all = result_recommend_all.drop('event_type', axis=1)\n",
    "print(datetime.now() - now)\n",
    "print(datetime.now().time())"
   ]
  },
  {
   "cell_type": "code",
   "execution_count": 36,
   "metadata": {},
   "outputs": [
    {
     "name": "stderr",
     "output_type": "stream",
     "text": [
      "100%|██████████| 1353/1353 [00:04<00:00, 275.54it/s]\n"
     ]
    },
    {
     "name": "stdout",
     "output_type": "stream",
     "text": [
      "map : 0.0691789407449493\n",
      "ndcg: 0.05007445386501801\n"
     ]
    }
   ],
   "source": [
    "create_array_recommend_test(10)"
   ]
  },
  {
   "cell_type": "code",
   "execution_count": 37,
   "metadata": {},
   "outputs": [
    {
     "name": "stderr",
     "output_type": "stream",
     "text": [
      "100%|██████████| 1000/1000 [28:39<00:00,  1.72s/it] \n"
     ]
    }
   ],
   "source": [
    "# Najdenie odporucania pre sutaz\n",
    "\n",
    "result_recommend_all = find_recommend(vi_challenge_uID, 30)\n",
    "result_recommend_all = result_recommend_all.drop('event_type', axis=1)\n",
    "export_csv = result_recommend_all.to_csv (r'/Users/jofy/Documents/VINF2/vi_data/export_data_final30.csv', index = None, header=False)"
   ]
  },
  {
   "cell_type": "code",
   "execution_count": 38,
   "metadata": {},
   "outputs": [
    {
     "name": "stderr",
     "output_type": "stream",
     "text": [
      "\r",
      "  0%|          | 0/1353 [00:00<?, ?it/s]"
     ]
    },
    {
     "name": "stdout",
     "output_type": "stream",
     "text": [
      "19:55:47.472795\n"
     ]
    },
    {
     "name": "stderr",
     "output_type": "stream",
     "text": [
      "100%|██████████| 1353/1353 [3:52:08<00:00, 11.07s/it]  "
     ]
    },
    {
     "name": "stdout",
     "output_type": "stream",
     "text": [
      "3:52:08.122459\n",
      "23:47:55.597170\n"
     ]
    },
    {
     "name": "stderr",
     "output_type": "stream",
     "text": [
      "\n"
     ]
    }
   ],
   "source": [
    "# Najdenie odporucania pre testovaciu mnozinu\n",
    "\n",
    "print(datetime.now().time())\n",
    "now = datetime.now()\n",
    "result_recommend_all = find_recommend(test_customer_uniq, 30)\n",
    "if 'event_type' in result_recommend_all.columns:\n",
    "    result_recommend_all = result_recommend_all.drop('event_type', axis=1)\n",
    "print(datetime.now() - now)\n",
    "print(datetime.now().time())"
   ]
  },
  {
   "cell_type": "code",
   "execution_count": 39,
   "metadata": {},
   "outputs": [
    {
     "name": "stderr",
     "output_type": "stream",
     "text": [
      "100%|██████████| 1353/1353 [00:07<00:00, 175.95it/s]\n"
     ]
    },
    {
     "name": "stdout",
     "output_type": "stream",
     "text": [
      "map : 0.07053185655198824\n",
      "ndcg: 0.052984721011700514\n"
     ]
    }
   ],
   "source": [
    "create_array_recommend_test(10)"
   ]
  },
  {
   "cell_type": "code",
   "execution_count": 40,
   "metadata": {},
   "outputs": [
    {
     "name": "stderr",
     "output_type": "stream",
     "text": [
      "100%|██████████| 1000/1000 [40:29<00:00,  2.43s/it] \n"
     ]
    }
   ],
   "source": [
    "# Najdenie odporucania pre sutaz\n",
    "\n",
    "result_recommend_all = find_recommend(vi_challenge_uID, 40)\n",
    "result_recommend_all = result_recommend_all.drop('event_type', axis=1)\n",
    "export_csv = result_recommend_all.to_csv (r'/Users/jofy/Documents/VINF2/vi_data/export_data_final40.csv', index = None, header=False)"
   ]
  },
  {
   "cell_type": "code",
   "execution_count": null,
   "metadata": {},
   "outputs": [
    {
     "name": "stderr",
     "output_type": "stream",
     "text": [
      "\r",
      "  0%|          | 0/1353 [00:00<?, ?it/s]"
     ]
    },
    {
     "name": "stdout",
     "output_type": "stream",
     "text": [
      "00:28:33.206825\n"
     ]
    },
    {
     "name": "stderr",
     "output_type": "stream",
     "text": [
      "  5%|▌         | 74/1353 [16:43<4:30:21, 12.68s/it]"
     ]
    }
   ],
   "source": [
    "# Najdenie odporucania pre testovaciu mnozinu\n",
    "\n",
    "print(datetime.now().time())\n",
    "now = datetime.now()\n",
    "result_recommend_all = find_recommend(test_customer_uniq, 40)\n",
    "if 'event_type' in result_recommend_all.columns:\n",
    "    result_recommend_all = result_recommend_all.drop('event_type', axis=1)\n",
    "print(datetime.now() - now)\n",
    "print(datetime.now().time())"
   ]
  },
  {
   "cell_type": "code",
   "execution_count": null,
   "metadata": {},
   "outputs": [],
   "source": [
    "create_array_recommend_test(10)"
   ]
  },
  {
   "cell_type": "code",
   "execution_count": null,
   "metadata": {},
   "outputs": [],
   "source": [
    "# Najdenie odporucania pre sutaz\n",
    "\n",
    "result_recommend_all = find_recommend(vi_challenge_uID, 50)\n",
    "result_recommend_all = result_recommend_all.drop('event_type', axis=1)\n",
    "export_csv = result_recommend_all.to_csv (r'/Users/jofy/Documents/VINF2/vi_data/export_data_final50.csv', index = None, header=False)"
   ]
  },
  {
   "cell_type": "code",
   "execution_count": null,
   "metadata": {},
   "outputs": [],
   "source": [
    "# Najdenie odporucania pre testovaciu mnozinu\n",
    "\n",
    "print(datetime.now().time())\n",
    "now = datetime.now()\n",
    "result_recommend_all = find_recommend(test_customer_uniq, 50)\n",
    "if 'event_type' in result_recommend_all.columns:\n",
    "    result_recommend_all = result_recommend_all.drop('event_type', axis=1)\n",
    "print(datetime.now() - now)\n",
    "print(datetime.now().time())"
   ]
  },
  {
   "cell_type": "code",
   "execution_count": null,
   "metadata": {},
   "outputs": [],
   "source": [
    "create_array_recommend_test(10)"
   ]
  },
  {
   "cell_type": "code",
   "execution_count": null,
   "metadata": {},
   "outputs": [],
   "source": [
    "# Najdenie odporucania pre sutaz\n",
    "\n",
    "result_recommend_all = find_recommend(vi_challenge_uID, 5)\n",
    "result_recommend_all = result_recommend_all.drop('event_type', axis=1)\n",
    "export_csv = result_recommend_all.to_csv (r'/Users/jofy/Documents/VINF2/vi_data/export_data_final5.csv', index = None, header=False)"
   ]
  },
  {
   "cell_type": "code",
   "execution_count": null,
   "metadata": {},
   "outputs": [],
   "source": [
    "# Najdenie odporucania pre testovaciu mnozinu\n",
    "\n",
    "print(datetime.now().time())\n",
    "now = datetime.now()\n",
    "result_recommend_all = find_recommend(test_customer_uniq, 5)\n",
    "if 'event_type' in result_recommend_all.columns:\n",
    "    result_recommend_all = result_recommend_all.drop('event_type', axis=1)\n",
    "print(datetime.now() - now)\n",
    "print(datetime.now().time())"
   ]
  },
  {
   "cell_type": "code",
   "execution_count": null,
   "metadata": {},
   "outputs": [],
   "source": [
    "create_array_recommend_test(10)"
   ]
  }
 ],
 "metadata": {
  "kernelspec": {
   "display_name": "Python 3",
   "language": "python",
   "name": "python3"
  },
  "language_info": {
   "codemirror_mode": {
    "name": "ipython",
    "version": 3
   },
   "file_extension": ".py",
   "mimetype": "text/x-python",
   "name": "python",
   "nbconvert_exporter": "python",
   "pygments_lexer": "ipython3",
   "version": "3.7.3"
  }
 },
 "nbformat": 4,
 "nbformat_minor": 2
}
