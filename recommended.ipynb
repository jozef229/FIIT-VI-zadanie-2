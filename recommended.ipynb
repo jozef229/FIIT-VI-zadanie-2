{
 "cells": [
  {
   "cell_type": "code",
   "execution_count": null,
   "metadata": {},
   "outputs": [],
   "source": [
    "# Knizníce\n",
    "\n",
    "from scipy import sparse\n",
    "from scipy.sparse import csr_matrix\n",
    "from sklearn.model_selection import train_test_split\n",
    "from pandas.api.types import CategoricalDtype\n",
    "from sklearn.neighbors import NearestNeighbors\n",
    "from datetime import datetime\n",
    "from tqdm import tqdm\n",
    "from pandas import DataFrame\n",
    "import pandas as pd\n",
    "import numpy as np"
   ]
  },
  {
   "cell_type": "code",
   "execution_count": null,
   "metadata": {},
   "outputs": [],
   "source": [
    "# Nacitanie dat\n",
    "\n",
    "use_cols = [\"customer_id\", \"timestamp\", \"event_type\", \"product_id\"]\n",
    "df1 = pd.read_csv(\"/Users/jofy/Documents/VINF2/vi_data/purchases_train.csv\", usecols=use_cols)\n",
    "df2 = pd.read_csv(\"/Users/jofy/Documents/VINF2/vi_data/events_train.csv\", usecols=use_cols)\n",
    "kogel = pd.read_csv(\"/Users/jofy/Documents/VINF2/vi_data/vi_challenge_uID.csv\", names=[\"customer_id\"])"
   ]
  },
  {
   "cell_type": "code",
   "execution_count": null,
   "metadata": {},
   "outputs": [],
   "source": [
    "# Spojenie dvoch dataframe (videne a kupene) a zoradenie podla casu\n",
    "\n",
    "print(datetime.now().time())\n",
    "now = datetime.now()\n",
    "frames = [df1, df2]\n",
    "df3 = pd.concat(frames)\n",
    "df3 = df3.sort_values(by='timestamp')\n",
    "df4All = df3.copy()\n",
    "print(datetime.now() - now)\n",
    "print(datetime.now().time())"
   ]
  },
  {
   "cell_type": "code",
   "execution_count": null,
   "metadata": {},
   "outputs": [],
   "source": [
    "print(\"Dĺžka purchases_train \" + str(len(df1)))\n",
    "print(\"Dĺžka events_train \" + str(len(df2)))\n",
    "print(\"Dĺžka spolu \" + str(len(df3)))\n",
    "print(\"Počet unikátnych zakazníkov purchases_train \" + str(len(df1.customer_id.unique())))\n",
    "print(\"Počet unikátnych zakazníkov events_train \" + str(len(df2.customer_id.unique())))\n",
    "print(\"Počet unikátnych zakazníkov spolu \" + str(len(df3.customer_id.unique())))\n",
    "print(\"Počet unikátnych produktov purchases_train \" + str(len(df1.product_id.unique())))\n",
    "print(\"Počet unikátnych produktov events_train \" + str(len(df2.product_id.unique())))\n",
    "print(\"Počet unikátnych produktov spolu \" + str(len(df3.product_id.unique())))\n",
    "\n",
    "counts = df1['customer_id'].value_counts()\n",
    "print(\"Počet customer_id s počtom záznamov ako 1 purchases_train \" + str(len(df1[df1['customer_id'].isin(counts[counts == 1].index)])))\n",
    "print(\"Počet customer_id s počtom záznamov ako 2 purchases_train \" + str(len(df1[df1['customer_id'].isin(counts[counts == 2].index)])))\n",
    "print(\"Počet customer_id s počtom záznamov ako 3 purchases_train \" + str(len(df1[df1['customer_id'].isin(counts[counts == 3].index)])))\n",
    "print(\"Počet customer_id s počtom záznamov ako 4 purchases_train \" + str(len(df1[df1['customer_id'].isin(counts[counts == 4].index)])))\n",
    "print(\"Počet customer_id s počtom záznamov ako 5 purchases_train \" + str(len(df1[df1['customer_id'].isin(counts[counts == 5].index)])))\n",
    "print(\"Počet customer_id s počtom záznamov ako 6 purchases_train \" + str(len(df1[df1['customer_id'].isin(counts[counts == 6].index)])))\n",
    "print(\"Počet customer_id s počtom záznamov ako 7 purchases_train \" + str(len(df1[df1['customer_id'].isin(counts[counts == 7].index)])))\n",
    "print(\"Počet customer_id s počtom záznamov ako 8 purchases_train \" + str(len(df1[df1['customer_id'].isin(counts[counts == 8].index)])))\n",
    "print(\"Počet customer_id s počtom záznamov ako 9 purchases_train \" + str(len(df1[df1['customer_id'].isin(counts[counts == 9].index)])))\n",
    "print(\"Počet customer_id s počtom záznamov ako 10 purchases_train \" + str(len(df1[df1['customer_id'].isin(counts[counts == 10].index)])))\n",
    "print(\"Počet customer_id s počtom záznamov ako 11 a viac purchases_train \" + str(len(df1[df1['customer_id'].isin(counts[counts > 10].index)])))\n",
    "\n",
    "counts = df2['customer_id'].value_counts()\n",
    "print(\"Počet customer_id s počtom záznamov ako 1 events_train \" + str(len(df2[df2['customer_id'].isin(counts[counts == 1].index)])))\n",
    "print(\"Počet customer_id s počtom záznamov ako 2 events_train \" + str(len(df2[df2['customer_id'].isin(counts[counts == 2].index)])))\n",
    "print(\"Počet customer_id s počtom záznamov ako 3 events_train \" + str(len(df2[df2['customer_id'].isin(counts[counts == 3].index)])))\n",
    "print(\"Počet customer_id s počtom záznamov ako 4 events_train \" + str(len(df2[df2['customer_id'].isin(counts[counts == 4].index)])))\n",
    "print(\"Počet customer_id s počtom záznamov ako 5 events_train \" + str(len(df2[df2['customer_id'].isin(counts[counts == 5].index)])))\n",
    "print(\"Počet customer_id s počtom záznamov ako 6 events_train \" + str(len(df2[df2['customer_id'].isin(counts[counts == 6].index)])))\n",
    "print(\"Počet customer_id s počtom záznamov ako 7 events_train \" + str(len(df2[df2['customer_id'].isin(counts[counts == 7].index)])))\n",
    "print(\"Počet customer_id s počtom záznamov ako 8 events_train \" + str(len(df2[df2['customer_id'].isin(counts[counts == 8].index)])))\n",
    "print(\"Počet customer_id s počtom záznamov ako 9 events_train \" + str(len(df2[df2['customer_id'].isin(counts[counts == 9].index)])))\n",
    "print(\"Počet customer_id s počtom záznamov ako 10 events_train \" + str(len(df2[df2['customer_id'].isin(counts[counts == 10].index)])))\n",
    "print(\"Počet customer_id s počtom záznamov ako 11 a viac events_train \" + str(len(df2[df2['customer_id'].isin(counts[counts > 10].index)])))\n",
    "\n",
    "counts = df3['customer_id'].value_counts()\n",
    "print(\"Počet customer_id s počtom záznamov ako 1 spolu \" + str(len(df3[df3['customer_id'].isin(counts[counts == 1].index)])))\n",
    "print(\"Počet customer_id s počtom záznamov ako 2 spolu \" + str(len(df3[df3['customer_id'].isin(counts[counts == 2].index)])))\n",
    "print(\"Počet customer_id s počtom záznamov ako 3 spolu \" + str(len(df3[df3['customer_id'].isin(counts[counts == 3].index)])))\n",
    "print(\"Počet customer_id s počtom záznamov ako 4 spolu \" + str(len(df3[df3['customer_id'].isin(counts[counts == 4].index)])))\n",
    "print(\"Počet customer_id s počtom záznamov ako 5 spolu \" + str(len(df3[df3['customer_id'].isin(counts[counts == 5].index)])))\n",
    "print(\"Počet customer_id s počtom záznamov ako 6 spolu \" + str(len(df3[df3['customer_id'].isin(counts[counts == 6].index)])))\n",
    "print(\"Počet customer_id s počtom záznamov ako 7 spolu \" + str(len(df3[df3['customer_id'].isin(counts[counts == 7].index)])))\n",
    "print(\"Počet customer_id s počtom záznamov ako 8 spolu \" + str(len(df3[df3['customer_id'].isin(counts[counts == 8].index)])))\n",
    "print(\"Počet customer_id s počtom záznamov ako 9 spolu \" + str(len(df3[df3['customer_id'].isin(counts[counts == 9].index)])))\n",
    "print(\"Počet customer_id s počtom záznamov ako 10 spolu \" + str(len(df3[df3['customer_id'].isin(counts[counts == 10].index)])))\n",
    "print(\"Počet customer_id s počtom záznamov ako 11 a viac spolu \" + str(len(df3[df3['customer_id'].isin(counts[counts > 10].index)])))"
   ]
  },
  {
   "cell_type": "code",
   "execution_count": null,
   "metadata": {},
   "outputs": [],
   "source": [
    "df1.groupby('product_id').agg({'product_id':'count'}).plot()"
   ]
  },
  {
   "cell_type": "code",
   "execution_count": null,
   "metadata": {},
   "outputs": [],
   "source": [
    "df2.groupby('product_id').agg({'product_id':'count'}).plot()"
   ]
  },
  {
   "cell_type": "code",
   "execution_count": null,
   "metadata": {},
   "outputs": [],
   "source": [
    "df3.groupby('product_id').agg({'product_id':'count'}).plot()"
   ]
  },
  {
   "cell_type": "code",
   "execution_count": null,
   "metadata": {},
   "outputs": [],
   "source": [
    "df1.groupby('customer_id').agg({'customer_id':'count'}).plot()"
   ]
  },
  {
   "cell_type": "code",
   "execution_count": null,
   "metadata": {},
   "outputs": [],
   "source": [
    "df2.groupby('customer_id').agg({'customer_id':'count'}).plot()"
   ]
  },
  {
   "cell_type": "code",
   "execution_count": null,
   "metadata": {},
   "outputs": [],
   "source": [
    "df3.groupby('customer_id').agg({'customer_id':'count'}).plot()"
   ]
  },
  {
   "cell_type": "code",
   "execution_count": null,
   "metadata": {},
   "outputs": [],
   "source": [
    "# Priprava sutaznych dat ako list\n",
    "\n",
    "vi_challenge_uID = kogel['customer_id'].values.tolist()"
   ]
  },
  {
   "cell_type": "code",
   "execution_count": null,
   "metadata": {},
   "outputs": [],
   "source": [
    "# Odstranenie customerov ktori urobili menej ako 4 zaznamy\n",
    "\n",
    "print(datetime.now().time())\n",
    "now = datetime.now()\n",
    "counts = df3['customer_id'].value_counts()\n",
    "df3 = df3[~df3['customer_id'].isin(counts[counts < 5].index)]\n",
    "print(datetime.now() - now)\n",
    "print(datetime.now().time())"
   ]
  },
  {
   "cell_type": "code",
   "execution_count": null,
   "metadata": {},
   "outputs": [],
   "source": [
    "# Odstranenie dat starsich ako 14 dni\n",
    "\n",
    "print(datetime.now().time())\n",
    "now = datetime.now()\n",
    "print(len(df3))\n",
    "df3['timestamp'] = pd.to_datetime(df3['timestamp'])\n",
    "indexNames = df3[df3['timestamp'].max() + pd.Timedelta(days=-14) > df3['timestamp']].index\n",
    "df3.drop(indexNames , inplace=True)\n",
    "print(len(df3))\n",
    "print(datetime.now() - now)\n",
    "print(datetime.now().time())"
   ]
  },
  {
   "cell_type": "code",
   "execution_count": null,
   "metadata": {},
   "outputs": [],
   "source": [
    "# Zamena tagov kupene a videne za hodnoty (kupene ma vacsiu hodnotu)\n",
    "\n",
    "df3 = df3.replace('purchase_item', 25)\n",
    "df3 = df3.replace('view_item', 1)\n",
    "df3['event_type'] = df3['event_type'].astype(int)\n",
    "\n",
    "df4All = df4All.replace('purchase_item', 25)\n",
    "df4All = df4All.replace('view_item', 1)\n",
    "df4All['event_type'] = df4All['event_type'].astype(int)"
   ]
  },
  {
   "cell_type": "code",
   "execution_count": null,
   "metadata": {},
   "outputs": [],
   "source": [
    "# Rozdelenie datasetu na 10 % na testovanie a 90% na trenovanie\n",
    "\n",
    "train, test = train_test_split(df3, test_size=0.2)\n",
    "\n",
    "# Rozdelenie datasetu na testovaciu a trenovaciu (vyber 10000 zaznamov na trenovanie na testovanie)\n",
    "\n",
    "train_span, test = train_test_split(test, test_size=0.15)"
   ]
  },
  {
   "cell_type": "code",
   "execution_count": null,
   "metadata": {},
   "outputs": [],
   "source": [
    "print(len(test))"
   ]
  },
  {
   "cell_type": "code",
   "execution_count": null,
   "metadata": {},
   "outputs": [],
   "source": [
    "# Odstranenie customerov ktori urobili menej ako 4 zaznamy\n",
    "print('train')\n",
    "print(datetime.now().time())\n",
    "now = datetime.now()\n",
    "counts = train['customer_id'].value_counts()\n",
    "train = train[~train['customer_id'].isin(counts[counts < 5].index)]\n",
    "print(datetime.now() - now)\n",
    "print(datetime.now().time())\n",
    "\n",
    "print('test')\n",
    "print(datetime.now().time())\n",
    "now = datetime.now()\n",
    "counts = test['customer_id'].value_counts()\n",
    "test = test[~test['customer_id'].isin(counts[counts < 5].index)]\n",
    "print(datetime.now() - now)\n",
    "print(datetime.now().time())"
   ]
  },
  {
   "cell_type": "code",
   "execution_count": null,
   "metadata": {},
   "outputs": [],
   "source": [
    "# Vyhladanie top 10 produktov z datasetu\n",
    "\n",
    "# pd.concat([df4All, test]).drop_duplicates(keep=False)\n",
    "# train_top_10_product = df4All.groupby(['product_id']).sum().sort_values(by=['event_type'],ascending=False).reset_index().head(10)\n",
    "\n",
    "\n",
    "train_top_10_product = train.groupby(['product_id']).sum().sort_values(by=['event_type'],ascending=False).reset_index().head(10)"
   ]
  },
  {
   "cell_type": "code",
   "execution_count": null,
   "metadata": {},
   "outputs": [],
   "source": [
    "# Tvorba zoznamu uniq customerov pre oba dataframe a tvorba kategorii\n",
    "\n",
    "# train = train[train.customer_id.duplicated(keep=False)]\n",
    "test_customer_uniq = sorted(test.customer_id.unique())\n",
    "test_product_uniq = sorted(test.product_id.unique())\n",
    "\n",
    "train_product_uniq = sorted(train.product_id.unique())\n",
    "train_customer_uniq = sorted(train.customer_id.unique())\n",
    "train_product = CategoricalDtype(train_product_uniq, ordered=True)\n",
    "train_customer = CategoricalDtype(train_customer_uniq, ordered=True)"
   ]
  },
  {
   "cell_type": "code",
   "execution_count": null,
   "metadata": {},
   "outputs": [],
   "source": [
    "# Vytvorenie riadku a stlpca ktory sa pouzije na sparse maticu\n",
    "\n",
    "train_row = train.customer_id.astype(train_customer).cat.codes\n",
    "train_col = train.product_id.astype(train_product).cat.codes"
   ]
  },
  {
   "cell_type": "code",
   "execution_count": null,
   "metadata": {},
   "outputs": [],
   "source": [
    "# Tvorba sparse matice\n",
    "\n",
    "train_sparse_matrix = csr_matrix((train[\"event_type\"], (train_row, train_col)), \\\n",
    "                                 shape=(train_customer.categories.size, train_product.categories.size))"
   ]
  },
  {
   "cell_type": "code",
   "execution_count": null,
   "metadata": {},
   "outputs": [],
   "source": [
    "# Tvorba testovacieho dataframe\n",
    "\n",
    "test_result = test.sort_values(by=['customer_id'])\n",
    "test_result = test_result.drop('timestamp', axis=1)\n",
    "test_result = test_result.drop('event_type', axis=1)"
   ]
  },
  {
   "cell_type": "code",
   "execution_count": null,
   "metadata": {},
   "outputs": [],
   "source": [
    "# Pomocne vypisi\n",
    "\n",
    "print('len df1 - ' + str(len(df1.index)))\n",
    "print('len df2 - ' + str(len(df2.index)))\n",
    "print('uniq event_type df1 - ' + str(df1['event_type'].unique()))\n",
    "print('uniq event_type df2 - ' + str(df2['event_type'].unique()))\n",
    "print('len train - ' + str(len(train.index)))\n",
    "print('len test - ' + str(len(test.index)))\n",
    "print('len train_product_uniq - ' + str(len(train_product_uniq)))\n",
    "print('len train_customer_uniq - ' + str(len(train_customer_uniq)))\n",
    "print('len test_customer_uniq - ' + str(len(test_customer_uniq)))\n",
    "print('len train_sparse_matrix.shape - ' + str(train_sparse_matrix.shape))\n",
    "print(f'{100*train_sparse_matrix.sum()/(train_sparse_matrix.shape[0]*train_sparse_matrix.shape[1])}% Sparsity')\n",
    "print('customer 0 - ' + str(train_customer_uniq[0]))"
   ]
  },
  {
   "cell_type": "code",
   "execution_count": null,
   "metadata": {},
   "outputs": [],
   "source": [
    "# Trenovanie knn matice vsetkych customerov\n",
    "\n",
    "print(datetime.now().time())\n",
    "now = datetime.now()\n",
    "model_knn_graph = NearestNeighbors(n_neighbors=11)\n",
    "model_knn_graph.fit(train_sparse_matrix)\n",
    "user_knn_distance_matrix = model_knn_graph.kneighbors_graph(train_sparse_matrix, mode='distance')\n",
    "print(datetime.now() - now)\n",
    "print(datetime.now().time())"
   ]
  },
  {
   "cell_type": "code",
   "execution_count": null,
   "metadata": {},
   "outputs": [],
   "source": [
    "print(user_knn_distance_matrix)"
   ]
  },
  {
   "cell_type": "code",
   "execution_count": null,
   "metadata": {},
   "outputs": [],
   "source": [
    "train.describe().style.format('{:.2f}')"
   ]
  },
  {
   "cell_type": "code",
   "execution_count": null,
   "metadata": {},
   "outputs": [],
   "source": [
    "# Najdenie odporucania pre list customerov. Ak ich je menej ako 10 doda z top 10. Ak customer nebol v trenovacej mnozine doda sa to z top 10.\n",
    "\n",
    "def find_recommend(users_data):\n",
    "    result_recommend = pd.DataFrame(columns=['customer_id','product_id'])\n",
    "    for x in tqdm(range(len(users_data))):\n",
    "        \n",
    "        try:\n",
    "            index_value = train_customer_uniq.index(users_data[x])\n",
    "        except ValueError:\n",
    "            index_value = -1\n",
    "\n",
    "        top10_for_user = train_top_10_product\n",
    "        top10_for_user['customer_id'] = users_data[x]\n",
    "\n",
    "        if index_value == -1:\n",
    "            result_recommend = result_recommend.append(top10_for_user)\n",
    "\n",
    "        else:\n",
    "            spam, user_neighbours = user_knn_distance_matrix[index_value].nonzero()\n",
    "            user_for_recommend = train.loc[train['customer_id'] == train_customer_uniq[index_value]].iloc[:,[3,2]]\n",
    "            user_for_recommend['customer_id'] = users_data[x]\n",
    "            user_for_recommend = user_for_recommend[user_for_recommend.event_type > 24] #pozor\n",
    "            topNuser = 10\n",
    "            if len(user_neighbours) < topNuser :\n",
    "                topNuser = len(user_neighbours)\n",
    "            for i in range(topNuser):\n",
    "                if i == 0:\n",
    "                    recommend = train.loc[train['customer_id'] == train_customer_uniq[user_neighbours[i]]].iloc[:,[2,3]]\n",
    "                else:\n",
    "                    recommend = recommend.append(train.loc[train['customer_id'] == train_customer_uniq[user_neighbours[i]]].iloc[:,[2,3]])\n",
    "                    \n",
    "            recommend = recommend.groupby(['product_id'], as_index=False).sum()\n",
    "            recommend['customer_id'] = users_data[x]\n",
    "\n",
    "            if 'event_type' in recommend.columns: \n",
    "                recommend = recommend.sort_values(by=['event_type'],ascending=False)\n",
    "\n",
    "            recommend.reset_index(drop=True, inplace=True)\n",
    "            recommend = recommend.append( user_for_recommend ).drop_duplicates(subset='product_id', keep=False).head(10)\n",
    "            r, c = recommend.shape\n",
    "\n",
    "            if r < 11:\n",
    "                recommend = recommend.append(top10_for_user).head(10)\n",
    "\n",
    "            result_recommend = result_recommend.append(recommend)\n",
    "            \n",
    "    return result_recommend\n"
   ]
  },
  {
   "cell_type": "code",
   "execution_count": null,
   "metadata": {},
   "outputs": [],
   "source": [
    "# Vypocet map_score\n",
    "\n",
    "def map_score(k, Xrecommend_data, Xtest_data):\n",
    "    global test_customer_uniq\n",
    "    mapk = 0\n",
    "    for u in range(len(test_customer_uniq)):\n",
    "        y_true = Xtest_data[u]\n",
    "        u_pred = Xrecommend_data[u]\n",
    "        y_pred = np.sort(u_pred)[::-1][:k]\n",
    "        n_hit = 0\n",
    "        precision = 0\n",
    "        actual = set(y_true)\n",
    "        for i, p in enumerate(y_pred, 1):\n",
    "            if p in actual:\n",
    "                n_hit += 1\n",
    "                precision += n_hit / i\n",
    "        mapk += precision / min(len(actual), k)\n",
    "    mapk /= len(test_customer_uniq)\n",
    "    return mapk"
   ]
  },
  {
   "cell_type": "code",
   "execution_count": null,
   "metadata": {},
   "outputs": [],
   "source": [
    "def dcg_at_k(y_true, y_score, k = 10):\n",
    "    y_dcg = np.zeros(len(y_true))\n",
    "    for i in range(len(y_true)):\n",
    "        \n",
    "        for j in range(len(y_score)):\n",
    "            if y_true[i] == y_score[j]:\n",
    "                if i == j:\n",
    "                    y_dcg[i] = 3\n",
    "                y_dcg[i] = 1\n",
    "                \n",
    "    gains = 2 ** sum(y_dcg) - 1\n",
    "    discounts = np.log2(np.arange(2, gains.size + 2))\n",
    "    dcg = np.sum(gains / discounts)\n",
    "    return dcg\n",
    "\n",
    "def ndcg_score(Xrecommend_data, Xtest_data, k):\n",
    "    global test_customer_uniq\n",
    "    ndcg = 0.0\n",
    "    for u in range(len(test_customer_uniq)):\n",
    "        actual = dcg_at_k(sorted(Xtest_data[u], reverse=True), Xrecommend_data[u], k)\n",
    "        best = dcg_at_k(sorted(Xtest_data[u], reverse=True), sorted(Xtest_data[u], reverse=True), k)\n",
    "        ndcg += actual / best\n",
    "    avg_ndcg = ndcg / len(test_customer_uniq)\n",
    "    return avg_ndcg\n"
   ]
  },
  {
   "cell_type": "code",
   "execution_count": null,
   "metadata": {},
   "outputs": [],
   "source": [
    "# Uprava dat pred vstupu do testu / tvorba listov\n",
    "\n",
    "def create_array_recommend_test():\n",
    "    Xrecommend_data = []\n",
    "    Xtest_data = []\n",
    "    for x in tqdm(range(len(test_customer_uniq))): \n",
    "        Xrecommend_data.append(result_recommend_all.loc[result_recommend_all['customer_id'] == test_customer_uniq[x]].iloc[:,[1]]['product_id'].values.tolist())\n",
    "        Xtest_data.append(test_result.loc[test_result['customer_id'] == test_customer_uniq[x]].iloc[:,[1]]['product_id'].values.tolist())\n",
    "        \n",
    "    map_value = map_score(10, Xrecommend_data, Xtest_data)\n",
    "    print('map :', map_value)\n",
    "    ndcg_value = ndcg_score(Xrecommend_data, Xtest_data, 10)\n",
    "    print('ndcg:', ndcg_value)\n"
   ]
  },
  {
   "cell_type": "code",
   "execution_count": null,
   "metadata": {
    "scrolled": true
   },
   "outputs": [],
   "source": [
    "# Najdenie odporucania pre sutaz\n",
    "\n",
    "result_recommend_all = find_recommend(vi_challenge_uID)\n",
    "result_recommend_all = result_recommend_all.drop('event_type', axis=1)\n",
    "export_csv = result_recommend_all.to_csv (r'/Users/jofy/Documents/VINF2/vi_data/export_data_final.csv', index = None, header=False)"
   ]
  },
  {
   "cell_type": "code",
   "execution_count": null,
   "metadata": {},
   "outputs": [],
   "source": [
    "# Najdenie odporucania pre testovaciu mnozinu\n",
    "\n",
    "print(datetime.now().time())\n",
    "now = datetime.now()\n",
    "result_recommend_all = find_recommend(test_customer_uniq)\n",
    "if 'event_type' in result_recommend_all.columns:\n",
    "    result_recommend_all = result_recommend_all.drop('event_type', axis=1)\n",
    "print(datetime.now() - now)\n",
    "print(datetime.now().time())"
   ]
  },
  {
   "cell_type": "code",
   "execution_count": null,
   "metadata": {
    "scrolled": false
   },
   "outputs": [],
   "source": [
    "# Spustenie testovania\n",
    "\n",
    "create_array_recommend_test()"
   ]
  },
  {
   "cell_type": "code",
   "execution_count": null,
   "metadata": {},
   "outputs": [],
   "source": []
  }
 ],
 "metadata": {
  "kernelspec": {
   "display_name": "Python 3",
   "language": "python",
   "name": "python3"
  },
  "language_info": {
   "codemirror_mode": {
    "name": "ipython",
    "version": 3
   },
   "file_extension": ".py",
   "mimetype": "text/x-python",
   "name": "python",
   "nbconvert_exporter": "python",
   "pygments_lexer": "ipython3",
   "version": "3.7.3"
  }
 },
 "nbformat": 4,
 "nbformat_minor": 2
}
